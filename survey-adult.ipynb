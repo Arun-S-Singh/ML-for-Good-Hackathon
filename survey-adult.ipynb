{
 "cells": [
  {
   "cell_type": "code",
   "execution_count": 53,
   "id": "1d99bd2b",
   "metadata": {},
   "outputs": [],
   "source": [
    "import pandas as pd\n",
    "import numpy as np"
   ]
  },
  {
   "cell_type": "code",
   "execution_count": 103,
   "id": "6c14e87b",
   "metadata": {},
   "outputs": [],
   "source": [
    "survey_April20 = pd.read_csv('Data/ProlificAcademic/April 2020/Data/CRISIS_Adult_April_2020.csv',index_col='ID')"
   ]
  },
  {
   "cell_type": "code",
   "execution_count": 104,
   "id": "7cba7cff",
   "metadata": {},
   "outputs": [],
   "source": [
    "survey_May20 = pd.read_csv('Data/ProlificAcademic/May 2020/Data/CRISIS_Adult_May_2020.csv',index_col='ID')"
   ]
  },
  {
   "cell_type": "code",
   "execution_count": 118,
   "id": "7fe4c98c",
   "metadata": {},
   "outputs": [],
   "source": [
    "survey_Nov20 = pd.read_csv('Data/ProlificAcademic/November 2020/Data/CRISIS_Adult_November_2020.csv',index_col='ID')"
   ]
  },
  {
   "cell_type": "code",
   "execution_count": 108,
   "id": "8b9320e0",
   "metadata": {},
   "outputs": [],
   "source": [
    "survey_April21 = pd.read_csv('Data/ProlificAcademic/April 2021/Data/CRISIS_Adult_April_2021.csv',index_col='ID')"
   ]
  },
  {
   "cell_type": "code",
   "execution_count": 120,
   "id": "d86da0a4",
   "metadata": {},
   "outputs": [
    {
     "name": "stdout",
     "output_type": "stream",
     "text": [
      "(1184, 242)\n",
      "(1184, 108)\n",
      "(2223, 289)\n",
      "(2125, 284)\n"
     ]
    }
   ],
   "source": [
    "# check individual row and column dimensions\n",
    "print(survey_April20.shape)\n",
    "print(survey_May20.shape)\n",
    "print(survey_Nov20.shape)\n",
    "print(survey_April21.shape)"
   ]
  },
  {
   "cell_type": "code",
   "execution_count": 45,
   "id": "41758ac7",
   "metadata": {},
   "outputs": [],
   "source": [
    "# cant use merge as columns are not same\n",
    "# survey_df = pd.merge(survey_April20, survey_Nov20, how=\"inner\", on='ID')"
   ]
  },
  {
   "cell_type": "markdown",
   "id": "4d3cfd92",
   "metadata": {},
   "source": [
    "### Find common participants across all groups"
   ]
  },
  {
   "cell_type": "code",
   "execution_count": 121,
   "id": "db1a4fba",
   "metadata": {},
   "outputs": [],
   "source": [
    "series_1 = pd.Series(np.intersect1d(survey_April20.index,survey_May20.index, assume_unique=True))\n",
    "series_2 = pd.Series(np.intersect1d(survey_Nov20.index,survey_April21.index, assume_unique=True))\n",
    "unique_ids = list(pd.Series(np.intersect1d(series_1,series_2,assume_unique=True)))\n",
    "#pd.Series(np.intersect1d(pd.Series([1,2,3,5,42]), pd.Series([4,5,6,20,42])))a"
   ]
  },
  {
   "cell_type": "code",
   "execution_count": 122,
   "id": "9daeb2ab",
   "metadata": {},
   "outputs": [
    {
     "data": {
      "text/plain": [
       "1184"
      ]
     },
     "execution_count": 122,
     "metadata": {},
     "output_type": "execute_result"
    }
   ],
   "source": [
    "len(unique_ids)"
   ]
  },
  {
   "cell_type": "code",
   "execution_count": 165,
   "id": "de193dce",
   "metadata": {},
   "outputs": [
    {
     "name": "stdout",
     "output_type": "stream",
     "text": [
      "True\n"
     ]
    },
    {
     "data": {
      "text/plain": [
       "4.0"
      ]
     },
     "execution_count": 165,
     "metadata": {},
     "output_type": "execute_result"
    }
   ],
   "source": [
    "# Test entry in a dataframe\n",
    "print('location' in survey_April20.columns)\n",
    "survey_April21.loc['00db60f1','location']"
   ]
  },
  {
   "cell_type": "code",
   "execution_count": 126,
   "id": "25e25b02",
   "metadata": {},
   "outputs": [],
   "source": [
    "## filter rows\n",
    "survey_April20 = survey_April20.loc[unique_ids]\n",
    "survey_May20 = survey_May20.loc[unique_ids]\n",
    "survey_Nov20 = survey_Nov20.loc[unique_ids]\n",
    "survey_April21 = survey_April21.loc[unique_ids]"
   ]
  },
  {
   "cell_type": "code",
   "execution_count": 143,
   "id": "c37fd35b",
   "metadata": {},
   "outputs": [
    {
     "name": "stdout",
     "output_type": "stream",
     "text": [
      "(1184, 242)\n",
      "(1184, 108)\n",
      "(1184, 289)\n",
      "(1184, 284)\n"
     ]
    }
   ],
   "source": [
    "## Compare shapes after filtering\n",
    "print(survey_April20.shape)\n",
    "print(survey_May20.shape)\n",
    "print(survey_Nov20.shape)\n",
    "print(survey_April21.shape)"
   ]
  },
  {
   "cell_type": "code",
   "execution_count": 149,
   "id": "4b26ecb7",
   "metadata": {},
   "outputs": [
    {
     "data": {
      "image/png": "[encoded data removed]",
      "text/plain": [
       "<Figure size 432x288 with 1 Axes>"
      ]
     },
     "metadata": {},
     "output_type": "display_data"
    }
   ],
   "source": [
    "import matplotlib.pyplot as plt\n",
    "\n",
    "plt.style.use('ggplot')\n",
    "ages = survey_Nov20['age']\n",
    "bins = list(range(10,100,10))\n",
    "median_age = survey_Nov20['age'].median()\n",
    "plt.hist(ages, bins=bins, edgecolor='black')\n",
    "plt.axvline(median_age, color='blue', label=\"Median Age\")\n",
    "plt.xlabel(\"Age\")\n",
    "plt.ylabel(\"Age Disribution\")\n",
    "plt.title(\"Age Distribution Histogram in 2020\")\n",
    "plt.legend()\n",
    "plt.show()"
   ]
  },
  {
   "cell_type": "markdown",
   "id": "1b9340fa",
   "metadata": {},
   "source": [
    "### List Common columns across All time whose data is unlikely to change - eg. gender,age,occupation, country etc."
   ]
  },
  {
   "cell_type": "code",
   "execution_count": 177,
   "id": "090571a3",
   "metadata": {},
   "outputs": [
    {
     "data": {
      "text/plain": [
       "<AxesSubplot:>"
      ]
     },
     "execution_count": 177,
     "metadata": {},
     "output_type": "execute_result"
    },
    {
     "data": {
      "image/png": "[encoded data removed]",
      "text/plain": [
       "<Figure size 432x288 with 1 Axes>"
      ]
     },
     "metadata": {},
     "output_type": "display_data"
    }
   ],
   "source": [
    "## bar graph of categorical variables - location, use start of survey April 20 data\n",
    "\n",
    "\n",
    "survey_April20['location'].value_counts().plot(kind='bar')\n"
   ]
  },
  {
   "cell_type": "code",
   "execution_count": 178,
   "id": "c932f780",
   "metadata": {},
   "outputs": [
    {
     "data": {
      "text/plain": [
       "<AxesSubplot:>"
      ]
     },
     "execution_count": 178,
     "metadata": {},
     "output_type": "execute_result"
    },
    {
     "data": {
      "image/png": "[encoded data removed]",
      "text/plain": [
       "<Figure size 432x288 with 1 Axes>"
      ]
     },
     "metadata": {},
     "output_type": "display_data"
    }
   ],
   "source": [
    "survey_April21['location'].value_counts().plot(kind='bar')"
   ]
  },
  {
   "cell_type": "code",
   "execution_count": null,
   "id": "b1f67965",
   "metadata": {},
   "outputs": [],
   "source": []
  }
 ],
 "metadata": {
  "kernelspec": {
   "display_name": "Python 3 (ipykernel)",
   "language": "python",
   "name": "python3"
  },
  "language_info": {
   "codemirror_mode": {
    "name": "ipython",
    "version": 3
   },
   "file_extension": ".py",
   "mimetype": "text/x-python",
   "name": "python",
   "nbconvert_exporter": "python",
   "pygments_lexer": "ipython3",
   "version": "3.9.7"
  }
 },
 "nbformat": 4,
 "nbformat_minor": 5
}
